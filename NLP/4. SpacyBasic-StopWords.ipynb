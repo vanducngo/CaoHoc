{
 "cells": [
  {
   "cell_type": "code",
   "execution_count": 1,
   "id": "7cac486d",
   "metadata": {},
   "outputs": [],
   "source": [
    "import spacy"
   ]
  },
  {
   "cell_type": "code",
   "execution_count": 2,
   "id": "637bdf05",
   "metadata": {},
   "outputs": [],
   "source": [
    "nlp = spacy.load('en_core_web_sm')"
   ]
  },
  {
   "cell_type": "code",
   "execution_count": 3,
   "id": "ba368356",
   "metadata": {},
   "outputs": [
    {
     "name": "stdout",
     "output_type": "stream",
     "text": [
      "{'me', 'with', 'formerly', 'you', 'last', 'should', 'any', 'mostly', 'though', 'your', 'beside', 'off', 'using', 'yourselves', 'might', 'always', 'same', 'too', 'we', 'its', 'their', 'anyhow', 'anywhere', 'full', 'hundred', 'be', 'become', 'over', 'seemed', 'whence', 'every', 'make', 'not', 'regarding', 'between', 'sixty', 'themselves', 'twenty', 'namely', 'i', 'in', 'did', 'yourself', 'if', 'elsewhere', 'down', 'everything', 'hereby', 'had', 'except', 'get', 'into', 'move', 'nevertheless', 'more', 'sometimes', 'toward', 'show', 'no', 'than', 'ca', 'empty', 'wherever', 'whose', 'eight', 'this', 'for', 'although', 'he', 'latter', 'please', 'must', 'an', 'three', 'that', 'before', 'have', 'itself', 'through', 'within', 'or', 'below', 'front', 'used', 'both', 'moreover', 'forty', 'just', 'others', 'ourselves', 'whereafter', 'on', 'behind', 'perhaps', 'it', 'became', 'ten', 'via', 'whither', 'becomes', 'therein', 'well', 'latterly', 'whoever', 'otherwise', 'whenever', 'my', 'why', 'beforehand', 'further', 'a', 'name', 'somewhere', 'above', 'next', 'of', 'beyond', 'how', 'whom', 'us', 'often', 'yours', 'whereas', 'bottom', 'does', 'has', 'indeed', 'see', 'up', 'much', 'which', 'hers', 'rather', 'other', 'once', 'thereafter', 'is', 'from', 'myself', 'already', 'nor', 'then', 'what', 'besides', 'some', 'thereby', 're', 'to', 'various', 'could', 'these', 'less', 'noone', 'very', 'would', 'him', 'his', 'back', 'everyone', 'himself', 'ever', 'something', 'third', 'first', 'herself', 'was', 'across', 'four', 'each', 'most', 'amongst', 'out', 'quite', 'therefore', 'either', 'only', 'afterwards', 'also', 'anyway', 'everywhere', 'fifteen', 'and', 'whole', 'many', 'so', 'becoming', 'per', 'still', 'another', 'because', 'hereupon', 'unless', 'again', 'hence', 'meanwhile', 'top', 'ours', 'several', 'wherein', 'along', 'twelve', 'nine', 'during', 'yet', 'thru', 'call', 'were', 'her', 'nowhere', 'all', 'whether', 'may', 'amount', 'about', 'seem', 'there', 'throughout', 'by', 'thereupon', 'former', 'take', 'serious', 'eleven', 'she', 'will', 'they', 'own', 'seeming', 'while', 'really', 'without', 'whereupon', 'who', 'where', 'neither', 'upon', 'someone', 'seems', 'almost', 'least', 'now', 'but', 'do', 'are', 'around', 'few', 'part', 'whatever', 'here', 'as', 'keep', 'thus', 'under', 'towards', 'among', 'two', 'when', 'side', 'anything', 'can', 'done', 'give', 'since', 'whereby', 'else', 'say', 'fifty', 'made', 'together', 'thence', 'the', 'anyone', 'none', 'our', 'doing', 'hereafter', 'somehow', 'onto', 'nothing', 'go', 'mine', 'sometime', 'enough', 'such', 'five', 'those', 'cannot', 'them', 'nobody', 'six', 'being', 'however', 'due', 'herein', 'am', 'alone', 'against', 'after', 'never', 'put', 'until', 'one', 'even', 'been', 'at'}\n"
     ]
    }
   ],
   "source": [
    "print(nlp.Defaults.stop_words)"
   ]
  },
  {
   "cell_type": "code",
   "execution_count": 4,
   "id": "4098af8d",
   "metadata": {},
   "outputs": [
    {
     "name": "stdout",
     "output_type": "stream",
     "text": [
      "305\n"
     ]
    }
   ],
   "source": [
    "print(len(nlp.Defaults.stop_words))"
   ]
  },
  {
   "cell_type": "code",
   "execution_count": 6,
   "id": "a6f13566",
   "metadata": {},
   "outputs": [
    {
     "data": {
      "text/plain": [
       "True"
      ]
     },
     "execution_count": 6,
     "metadata": {},
     "output_type": "execute_result"
    }
   ],
   "source": [
    "nlp.vocab['is'].is_stop"
   ]
  },
  {
   "cell_type": "code",
   "execution_count": null,
   "id": "0ced5212",
   "metadata": {},
   "outputs": [],
   "source": []
  }
 ],
 "metadata": {
  "kernelspec": {
   "display_name": "Python 3 (ipykernel)",
   "language": "python",
   "name": "python3"
  },
  "language_info": {
   "codemirror_mode": {
    "name": "ipython",
    "version": 3
   },
   "file_extension": ".py",
   "mimetype": "text/x-python",
   "name": "python",
   "nbconvert_exporter": "python",
   "pygments_lexer": "ipython3",
   "version": "3.7.16"
  }
 },
 "nbformat": 4,
 "nbformat_minor": 5
}
