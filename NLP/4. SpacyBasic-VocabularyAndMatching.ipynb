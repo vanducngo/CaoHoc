{
 "cells": [
  {
   "cell_type": "code",
   "execution_count": 1,
   "id": "7cac486d",
   "metadata": {},
   "outputs": [],
   "source": [
    "import spacy"
   ]
  },
  {
   "cell_type": "code",
   "execution_count": 3,
   "id": "637bdf05",
   "metadata": {},
   "outputs": [],
   "source": [
    "nlp = spacy.load('en_core_web_sm')"
   ]
  },
  {
   "cell_type": "code",
   "execution_count": 4,
   "id": "f26c3e03",
   "metadata": {},
   "outputs": [],
   "source": [
    "from spacy.matcher import Matcher"
   ]
  },
  {
   "cell_type": "code",
   "execution_count": 5,
   "id": "974f3918",
   "metadata": {},
   "outputs": [],
   "source": [
    "matcher = Matcher(nlp.vocab)"
   ]
  },
  {
   "cell_type": "code",
   "execution_count": 10,
   "id": "bb6b0d76",
   "metadata": {},
   "outputs": [],
   "source": [
    "# SolarPower\n",
    "pattern1 = [{ 'LOWER': 'solarpower'}]\n",
    "# Solar-Power\n",
    "pattern2 = [{ 'LOWER': 'solar'}, {'IS_PUNCT': True}, { 'LOWER': 'power'}]\n",
    "# Solar Power\n",
    "pattern3 = [{ 'LOWER': 'solar'}, { 'LOWER': 'power'}]"
   ]
  },
  {
   "cell_type": "code",
   "execution_count": 11,
   "id": "2a14f733",
   "metadata": {},
   "outputs": [],
   "source": [
    "matcher.add(\"SolarPower\", None,  pattern1, pattern2, pattern3)"
   ]
  },
  {
   "cell_type": "code",
   "execution_count": 12,
   "id": "c4260576",
   "metadata": {},
   "outputs": [],
   "source": [
    "doc = nlp(u\"The Solar Power industry continues to grow a solarpower increases. Solar-Powner is amazing.\")"
   ]
  },
  {
   "cell_type": "code",
   "execution_count": 13,
   "id": "88b7674f",
   "metadata": {},
   "outputs": [],
   "source": [
    "founded_matcher = matcher(doc)"
   ]
  },
  {
   "cell_type": "code",
   "execution_count": 14,
   "id": "b5e1718d",
   "metadata": {},
   "outputs": [
    {
     "name": "stdout",
     "output_type": "stream",
     "text": [
      "[(8656102463236116519, 1, 3), (8656102463236116519, 8, 9)]\n"
     ]
    }
   ],
   "source": [
    "print(founded_matcher)"
   ]
  },
  {
   "cell_type": "code",
   "execution_count": null,
   "id": "08958829",
   "metadata": {},
   "outputs": [],
   "source": []
  }
 ],
 "metadata": {
  "kernelspec": {
   "display_name": "Python 3 (ipykernel)",
   "language": "python",
   "name": "python3"
  },
  "language_info": {
   "codemirror_mode": {
    "name": "ipython",
    "version": 3
   },
   "file_extension": ".py",
   "mimetype": "text/x-python",
   "name": "python",
   "nbconvert_exporter": "python",
   "pygments_lexer": "ipython3",
   "version": "3.7.16"
  }
 },
 "nbformat": 4,
 "nbformat_minor": 5
}
