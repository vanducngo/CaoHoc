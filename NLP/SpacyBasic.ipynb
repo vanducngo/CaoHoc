{
 "cells": [
  {
   "cell_type": "code",
   "execution_count": 97,
   "id": "bd6b6106",
   "metadata": {},
   "outputs": [],
   "source": [
    "import spacy"
   ]
  },
  {
   "cell_type": "code",
   "execution_count": 100,
   "id": "e900abd2",
   "metadata": {},
   "outputs": [
    {
     "name": "stdout",
     "output_type": "stream",
     "text": [
      "nlp_course\n"
     ]
    }
   ],
   "source": [
    "import os\n",
    "print(os.environ['CONDA_DEFAULT_ENV'])\n"
   ]
  },
  {
   "cell_type": "code",
   "execution_count": 101,
   "id": "e6e3cdf2",
   "metadata": {},
   "outputs": [],
   "source": [
    "nlp = spacy.load('en_core_web_sm')"
   ]
  },
  {
   "cell_type": "code",
   "execution_count": 102,
   "id": "80f58036",
   "metadata": {},
   "outputs": [],
   "source": [
    "doc = nlp(u'Tesla is looking at bying U.S. startup for $5 million')"
   ]
  },
  {
   "cell_type": "code",
   "execution_count": 107,
   "id": "d6cd360a",
   "metadata": {},
   "outputs": [
    {
     "name": "stdout",
     "output_type": "stream",
     "text": [
      "Tesla PROPN nsubj\n",
      "is VERB aux\n",
      "looking VERB ROOT\n",
      "at ADP prep\n",
      "bying VERB pcomp\n",
      "U.S. PROPN compound\n",
      "startup NOUN dobj\n",
      "for ADP prep\n",
      "$ SYM quantmod\n",
      "5 NUM compound\n",
      "million NUM pobj\n"
     ]
    }
   ],
   "source": [
    "for token in doc:\n",
    "    print(token.text, token.pos_, token.dep_)"
   ]
  },
  {
   "cell_type": "code",
   "execution_count": 111,
   "id": "aaebd723",
   "metadata": {},
   "outputs": [
    {
     "data": {
      "text/plain": [
       "[('tagger', <spacy.pipeline.Tagger at 0x7f78b5958f50>),\n",
       " ('parser', <spacy.pipeline.DependencyParser at 0x7f78b5adcb30>),\n",
       " ('ner', <spacy.pipeline.EntityRecognizer at 0x7f78b5b0d110>)]"
      ]
     },
     "execution_count": 111,
     "metadata": {},
     "output_type": "execute_result"
    }
   ],
   "source": [
    "nlp.pipeline"
   ]
  },
  {
   "cell_type": "code",
   "execution_count": 112,
   "id": "c578a9dc",
   "metadata": {},
   "outputs": [
    {
     "data": {
      "text/plain": [
       "['tagger', 'parser', 'ner']"
      ]
     },
     "execution_count": 112,
     "metadata": {},
     "output_type": "execute_result"
    }
   ],
   "source": [
    "nlp.pipe_names"
   ]
  },
  {
   "cell_type": "code",
   "execution_count": 118,
   "id": "26b9acda",
   "metadata": {},
   "outputs": [],
   "source": [
    "doc2 = nlp(u\"Tesla isn't           looking into startup anymore.\")"
   ]
  },
  {
   "cell_type": "code",
   "execution_count": 119,
   "id": "4aa443b1",
   "metadata": {},
   "outputs": [
    {
     "name": "stdout",
     "output_type": "stream",
     "text": [
      "Tesla PROPN nsubj\n",
      "is VERB aux\n",
      "n't ADV neg\n",
      "           SPACE \n",
      "looking VERB ROOT\n",
      "into ADP prep\n",
      "startup NOUN pobj\n",
      "anymore ADV advmod\n",
      ". PUNCT punct\n"
     ]
    }
   ],
   "source": [
    "for token in doc2:\n",
    "    print(token.text, token.pos_, token.dep_)"
   ]
  },
  {
   "cell_type": "code",
   "execution_count": 126,
   "id": "d292558c",
   "metadata": {},
   "outputs": [
    {
     "data": {
      "text/plain": [
       "is"
      ]
     },
     "execution_count": 126,
     "metadata": {},
     "output_type": "execute_result"
    }
   ],
   "source": [
    "doc2[1]"
   ]
  },
  {
   "cell_type": "code",
   "execution_count": 127,
   "id": "29fb0282",
   "metadata": {},
   "outputs": [
    {
     "data": {
      "text/plain": [
       "'VERB'"
      ]
     },
     "execution_count": 127,
     "metadata": {},
     "output_type": "execute_result"
    }
   ],
   "source": [
    "doc2[1].pos_"
   ]
  },
  {
   "cell_type": "code",
   "execution_count": 128,
   "id": "25f1629f",
   "metadata": {},
   "outputs": [
    {
     "data": {
      "text/plain": [
       "'be'"
      ]
     },
     "execution_count": 128,
     "metadata": {},
     "output_type": "execute_result"
    }
   ],
   "source": [
    "doc2[1].lemma_"
   ]
  },
  {
   "cell_type": "code",
   "execution_count": 129,
   "id": "ee2001fa",
   "metadata": {},
   "outputs": [
    {
     "data": {
      "text/plain": [
       "'VBZ'"
      ]
     },
     "execution_count": 129,
     "metadata": {},
     "output_type": "execute_result"
    }
   ],
   "source": [
    "doc2[1].tag_"
   ]
  },
  {
   "cell_type": "code",
   "execution_count": 130,
   "id": "9d05c33a",
   "metadata": {},
   "outputs": [
    {
     "data": {
      "text/plain": [
       "'xx'"
      ]
     },
     "execution_count": 130,
     "metadata": {},
     "output_type": "execute_result"
    }
   ],
   "source": [
    "doc2[1].shape_"
   ]
  },
  {
   "cell_type": "code",
   "execution_count": 131,
   "id": "1a1a11f9",
   "metadata": {},
   "outputs": [
    {
     "data": {
      "text/plain": [
       "True"
      ]
     },
     "execution_count": 131,
     "metadata": {},
     "output_type": "execute_result"
    }
   ],
   "source": [
    "doc2[1].is_alpha"
   ]
  },
  {
   "cell_type": "code",
   "execution_count": 132,
   "id": "b3900906",
   "metadata": {},
   "outputs": [
    {
     "data": {
      "text/plain": [
       "True"
      ]
     },
     "execution_count": 132,
     "metadata": {},
     "output_type": "execute_result"
    }
   ],
   "source": [
    "doc2[1].is_stop"
   ]
  },
  {
   "cell_type": "code",
   "execution_count": 133,
   "id": "6d68098b",
   "metadata": {},
   "outputs": [],
   "source": [
    "doc3 = nlp(u'Although commmonly attributed to John Lennon from his song \"Beautiful Boy\", \\\n",
    "the phrase \"Life is what happens to us while we are making other plans\" was written by \\\n",
    "cartoonist Allen Saunders and published in Reader\\'s Digest in 1957, when Lennon was 17.')"
   ]
  },
  {
   "cell_type": "code",
   "execution_count": 138,
   "id": "490934fe",
   "metadata": {},
   "outputs": [
    {
     "name": "stdout",
     "output_type": "stream",
     "text": [
      "\"Life is what happens to us while we are making other plans\"\n"
     ]
    }
   ],
   "source": [
    "life_quote = doc3[16:30]\n",
    "print(life_quote)"
   ]
  },
  {
   "cell_type": "code",
   "execution_count": 150,
   "id": "acbd11c2",
   "metadata": {},
   "outputs": [
    {
     "name": "stdout",
     "output_type": "stream",
     "text": [
      "0 Although ADP mark\n",
      "1 commmonly ADV advmod\n",
      "2 attributed VERB advcl\n",
      "3 to ADP prep\n",
      "4 John PROPN compound\n",
      "5 Lennon PROPN pobj\n",
      "6 from ADP prep\n",
      "7 his ADJ poss\n",
      "8 song NOUN pobj\n",
      "9 \" PUNCT punct\n",
      "10 Beautiful PROPN amod\n",
      "11 Boy PROPN appos\n",
      "12 \" PUNCT punct\n",
      "13 , PUNCT punct\n",
      "14 the DET det\n",
      "15 phrase NOUN appos\n",
      "16 \" PUNCT punct\n",
      "17 Life NOUN appos\n",
      "18 is VERB ROOT\n",
      "19 what NOUN nsubj\n",
      "20 happens VERB ccomp\n",
      "21 to ADP prep\n",
      "22 us PRON pobj\n",
      "23 while ADP mark\n",
      "24 we PRON nsubj\n",
      "25 are VERB aux\n",
      "26 making VERB advcl\n",
      "27 other ADJ amod\n",
      "28 plans NOUN dobj\n",
      "29 \" PUNCT punct\n",
      "30 was VERB auxpass\n",
      "31 written VERB conj\n",
      "32 by ADP agent\n",
      "33 cartoonist NOUN compound\n",
      "34 Allen PROPN compound\n",
      "35 Saunders PROPN pobj\n",
      "36 and CCONJ cc\n",
      "37 published VERB conj\n",
      "38 in ADP prep\n",
      "39 Reader PROPN poss\n",
      "40 's PART case\n",
      "41 Digest PROPN pobj\n",
      "42 in ADP prep\n",
      "43 1957 NUM pobj\n",
      "44 , PUNCT punct\n",
      "45 when ADV advmod\n",
      "46 Lennon PROPN nsubj\n",
      "47 was VERB relcl\n",
      "48 17 NUM attr\n",
      "49 . PUNCT punct\n"
     ]
    }
   ],
   "source": [
    "for index, token in enumerate(doc3):\n",
    "    print(index, token.text, token.pos_, token.dep_)"
   ]
  },
  {
   "cell_type": "code",
   "execution_count": null,
   "id": "01b44335",
   "metadata": {},
   "outputs": [],
   "source": []
  }
 ],
 "metadata": {
  "kernelspec": {
   "display_name": "Python 3 (ipykernel)",
   "language": "python",
   "name": "python3"
  },
  "language_info": {
   "codemirror_mode": {
    "name": "ipython",
    "version": 3
   },
   "file_extension": ".py",
   "mimetype": "text/x-python",
   "name": "python",
   "nbconvert_exporter": "python",
   "pygments_lexer": "ipython3",
   "version": "3.7.16"
  }
 },
 "nbformat": 4,
 "nbformat_minor": 5
}
